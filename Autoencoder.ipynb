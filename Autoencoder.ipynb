{
 "cells": [
  {
   "cell_type": "code",
   "execution_count": 1,
   "metadata": {},
   "outputs": [],
   "source": [
    "# Taken from: https://blog.keras.io/building-autoencoders-in-keras.html"
   ]
  },
  {
   "cell_type": "code",
   "execution_count": 17,
   "metadata": {},
   "outputs": [],
   "source": [
    "import tensorflow as tf\n",
    "import numpy as np\n",
    "import matplotlib.pyplot as plt"
   ]
  },
  {
   "cell_type": "code",
   "execution_count": 4,
   "metadata": {},
   "outputs": [],
   "source": [
    "encoding_dim = 32  \n",
    "\n",
    "# This is our input image\n",
    "input_img = tf.keras.Input(shape=(784,))\n",
    "# \"encoded\" is the encoded representation of the input\n",
    "encoded = tf.keras.layers.Dense(encoding_dim, activation='relu')(input_img)\n",
    "# \"decoded\" is the lossy reconstruction of the input\n",
    "decoded = tf.keras.layers.Dense(784, activation='sigmoid')(encoded)\n",
    "\n",
    "# This model maps an input to its reconstruction\n",
    "autoencoder = tf.keras.Model(input_img, decoded)"
   ]
  },
  {
   "cell_type": "code",
   "execution_count": 6,
   "metadata": {},
   "outputs": [],
   "source": [
    "encoder = tf.keras.Model(input_img, encoded)"
   ]
  },
  {
   "cell_type": "code",
   "execution_count": 7,
   "metadata": {},
   "outputs": [],
   "source": [
    "# This is our encoded (32-dimensional) input\n",
    "encoded_input = tf.keras.Input(shape=(encoding_dim,))\n",
    "\n",
    "# Retrieve the last layer of the autoencoder model\n",
    "decoder_layer = autoencoder.layers[-1]\n",
    "\n",
    "# Create the decoder model\n",
    "decoder = tf.keras.Model(encoded_input, decoder_layer(encoded_input))"
   ]
  },
  {
   "cell_type": "code",
   "execution_count": 8,
   "metadata": {},
   "outputs": [],
   "source": [
    "autoencoder.compile(optimizer='adam', loss='binary_crossentropy')"
   ]
  },
  {
   "cell_type": "code",
   "execution_count": 10,
   "metadata": {},
   "outputs": [],
   "source": [
    "# Loading the data\n",
    "(x_train, _), (x_test, _) = tf.keras.datasets.mnist.load_data()"
   ]
  },
  {
   "cell_type": "code",
   "execution_count": 14,
   "metadata": {},
   "outputs": [
    {
     "name": "stdout",
     "output_type": "stream",
     "text": [
      "(60000, 784)\n",
      "(10000, 784)\n"
     ]
    }
   ],
   "source": [
    "x_train = x_train.astype('float32') / 255.\n",
    "x_test = x_test.astype('float32') / 255.\n",
    "x_train = x_train.reshape((len(x_train), np.prod(x_train.shape[1:]))) # <- reshaping them to flatten the image\n",
    "x_test = x_test.reshape((len(x_test), np.prod(x_test.shape[1:]))) # <- reshaping them to flatten the image\n",
    "print(x_train.shape)\n",
    "print(x_test.shape)"
   ]
  },
  {
   "cell_type": "code",
   "execution_count": 19,
   "metadata": {
    "scrolled": true
   },
   "outputs": [
    {
     "name": "stdout",
     "output_type": "stream",
     "text": [
      "Epoch 1/50\n",
      "235/235 [==============================] - 1s 2ms/step - loss: 0.0041 - val_loss: 0.0042\n",
      "Epoch 2/50\n",
      "235/235 [==============================] - 1s 2ms/step - loss: 0.0041 - val_loss: 0.0042\n",
      "Epoch 3/50\n",
      "235/235 [==============================] - 1s 3ms/step - loss: 0.0041 - val_loss: 0.0042\n",
      "Epoch 4/50\n",
      "235/235 [==============================] - 1s 2ms/step - loss: 0.0041 - val_loss: 0.0042\n",
      "Epoch 5/50\n",
      "235/235 [==============================] - 1s 2ms/step - loss: 0.0041 - val_loss: 0.0041\n",
      "Epoch 6/50\n",
      "235/235 [==============================] - 1s 2ms/step - loss: 0.0041 - val_loss: 0.0041\n",
      "Epoch 7/50\n",
      "235/235 [==============================] - 1s 2ms/step - loss: 0.0041 - val_loss: 0.0041\n",
      "Epoch 8/50\n",
      "235/235 [==============================] - 1s 2ms/step - loss: 0.0041 - val_loss: 0.0041\n",
      "Epoch 9/50\n",
      "235/235 [==============================] - 1s 2ms/step - loss: 0.0041 - val_loss: 0.0041\n",
      "Epoch 10/50\n",
      "235/235 [==============================] - 1s 2ms/step - loss: 0.0041 - val_loss: 0.0041\n",
      "Epoch 11/50\n",
      "235/235 [==============================] - 1s 2ms/step - loss: 0.0041 - val_loss: 0.0041\n",
      "Epoch 12/50\n",
      "235/235 [==============================] - 1s 2ms/step - loss: 0.0041 - val_loss: 0.0041\n",
      "Epoch 13/50\n",
      "235/235 [==============================] - 1s 2ms/step - loss: 0.0040 - val_loss: 0.0041\n",
      "Epoch 14/50\n",
      "235/235 [==============================] - 1s 2ms/step - loss: 0.0040 - val_loss: 0.0041\n",
      "Epoch 15/50\n",
      "235/235 [==============================] - 1s 2ms/step - loss: 0.0040 - val_loss: 0.0041\n",
      "Epoch 16/50\n",
      "235/235 [==============================] - 1s 3ms/step - loss: 0.0040 - val_loss: 0.0041\n",
      "Epoch 17/50\n",
      "235/235 [==============================] - 1s 2ms/step - loss: 0.0040 - val_loss: 0.0041\n",
      "Epoch 18/50\n",
      "235/235 [==============================] - 1s 2ms/step - loss: 0.0040 - val_loss: 0.0041\n",
      "Epoch 19/50\n",
      "235/235 [==============================] - 1s 2ms/step - loss: 0.0040 - val_loss: 0.0040\n",
      "Epoch 20/50\n",
      "235/235 [==============================] - 1s 2ms/step - loss: 0.0040 - val_loss: 0.0040\n",
      "Epoch 21/50\n",
      "235/235 [==============================] - 1s 3ms/step - loss: 0.0040 - val_loss: 0.0040\n",
      "Epoch 22/50\n",
      "235/235 [==============================] - 1s 2ms/step - loss: 0.0040 - val_loss: 0.0040\n",
      "Epoch 23/50\n",
      "235/235 [==============================] - 1s 3ms/step - loss: 0.0040 - val_loss: 0.0040\n",
      "Epoch 24/50\n",
      "235/235 [==============================] - 1s 2ms/step - loss: 0.0040 - val_loss: 0.0040\n",
      "Epoch 25/50\n",
      "235/235 [==============================] - 1s 2ms/step - loss: 0.0040 - val_loss: 0.0040\n",
      "Epoch 26/50\n",
      "235/235 [==============================] - 1s 3ms/step - loss: 0.0040 - val_loss: 0.0040\n",
      "Epoch 27/50\n",
      "235/235 [==============================] - 1s 2ms/step - loss: 0.0040 - val_loss: 0.0040\n",
      "Epoch 28/50\n",
      "235/235 [==============================] - 1s 3ms/step - loss: 0.0040 - val_loss: 0.0040\n",
      "Epoch 29/50\n",
      "235/235 [==============================] - 1s 3ms/step - loss: 0.0040 - val_loss: 0.0040\n",
      "Epoch 30/50\n",
      "235/235 [==============================] - 1s 2ms/step - loss: 0.0040 - val_loss: 0.0040\n",
      "Epoch 31/50\n",
      "235/235 [==============================] - 1s 2ms/step - loss: 0.0040 - val_loss: 0.0040\n",
      "Epoch 32/50\n",
      "235/235 [==============================] - 1s 2ms/step - loss: 0.0040 - val_loss: 0.0040\n",
      "Epoch 33/50\n",
      "235/235 [==============================] - 1s 2ms/step - loss: 0.0040 - val_loss: 0.0040\n",
      "Epoch 34/50\n",
      "235/235 [==============================] - 1s 2ms/step - loss: 0.0040 - val_loss: 0.0040\n",
      "Epoch 35/50\n",
      "235/235 [==============================] - 1s 2ms/step - loss: 0.0040 - val_loss: 0.0040\n",
      "Epoch 36/50\n",
      "235/235 [==============================] - 1s 2ms/step - loss: 0.0039 - val_loss: 0.0040\n",
      "Epoch 37/50\n",
      "235/235 [==============================] - 1s 2ms/step - loss: 0.0039 - val_loss: 0.0040\n",
      "Epoch 38/50\n",
      "235/235 [==============================] - 1s 2ms/step - loss: 0.0039 - val_loss: 0.0040\n",
      "Epoch 39/50\n",
      "235/235 [==============================] - 1s 2ms/step - loss: 0.0039 - val_loss: 0.0040\n",
      "Epoch 40/50\n",
      "235/235 [==============================] - 1s 2ms/step - loss: 0.0039 - val_loss: 0.0040\n",
      "Epoch 41/50\n",
      "235/235 [==============================] - 1s 2ms/step - loss: 0.0039 - val_loss: 0.0040\n",
      "Epoch 42/50\n",
      "235/235 [==============================] - 1s 2ms/step - loss: 0.0039 - val_loss: 0.0040\n",
      "Epoch 43/50\n",
      "235/235 [==============================] - 1s 2ms/step - loss: 0.0039 - val_loss: 0.0040\n",
      "Epoch 44/50\n",
      "235/235 [==============================] - 1s 2ms/step - loss: 0.0039 - val_loss: 0.0040\n",
      "Epoch 45/50\n",
      "235/235 [==============================] - 1s 2ms/step - loss: 0.0039 - val_loss: 0.0040\n",
      "Epoch 46/50\n",
      "235/235 [==============================] - 1s 2ms/step - loss: 0.0039 - val_loss: 0.0040\n",
      "Epoch 47/50\n",
      "235/235 [==============================] - 1s 2ms/step - loss: 0.0039 - val_loss: 0.0040\n",
      "Epoch 48/50\n",
      "235/235 [==============================] - 1s 2ms/step - loss: 0.0039 - val_loss: 0.0040\n",
      "Epoch 49/50\n",
      "235/235 [==============================] - 1s 2ms/step - loss: 0.0039 - val_loss: 0.0040\n",
      "Epoch 50/50\n",
      "235/235 [==============================] - 1s 2ms/step - loss: 0.0039 - val_loss: 0.0040\n"
     ]
    },
    {
     "data": {
      "text/plain": [
       "<tensorflow.python.keras.callbacks.History at 0x7f86682b1588>"
      ]
     },
     "execution_count": 19,
     "metadata": {},
     "output_type": "execute_result"
    }
   ],
   "source": [
    "autoencoder.fit(x_train, x_train,\n",
    "                epochs=50,\n",
    "                batch_size=256,\n",
    "                shuffle=True,\n",
    "                validation_data=(x_test, x_test))"
   ]
  },
  {
   "cell_type": "code",
   "execution_count": 20,
   "metadata": {},
   "outputs": [],
   "source": [
    "# Encode and decode some digits\n",
    "# Note that we take them from the *test* set\n",
    "encoded_imgs = encoder.predict(x_test)\n",
    "decoded_imgs = decoder.predict(encoded_imgs)"
   ]
  },
  {
   "cell_type": "code",
   "execution_count": 22,
   "metadata": {},
   "outputs": [
    {
     "data": {
      "image/png": "[encoded data removed]",
      "text/plain": [
       "<Figure size 1440x288 with 20 Axes>"
      ]
     },
     "metadata": {
      "needs_background": "light"
     },
     "output_type": "display_data"
    }
   ],
   "source": [
    "n = 10  # How many digits we will display\n",
    "plt.figure(figsize=(20, 4))\n",
    "for i in range(n):\n",
    "    # Display original\n",
    "    ax = plt.subplot(2, n, i + 1)\n",
    "    plt.imshow(x_test[i].reshape(28, 28))\n",
    "    plt.gray()\n",
    "    ax.get_xaxis().set_visible(False)\n",
    "    ax.get_yaxis().set_visible(False)\n",
    "\n",
    "    # Display reconstruction\n",
    "    ax = plt.subplot(2, n, i + 1 + n)\n",
    "    plt.imshow(decoded_imgs[i].reshape(28, 28))\n",
    "    plt.gray()\n",
    "    ax.get_xaxis().set_visible(False)\n",
    "    ax.get_yaxis().set_visible(False)\n",
    "plt.show()\n"
   ]
  },
  {
   "cell_type": "code",
   "execution_count": null,
   "metadata": {},
   "outputs": [],
   "source": []
  }
 ],
 "metadata": {
  "kernelspec": {
   "display_name": "Python 3",
   "language": "python",
   "name": "python3"
  },
  "language_info": {
   "codemirror_mode": {
    "name": "ipython",
    "version": 3
   },
   "file_extension": ".py",
   "mimetype": "text/x-python",
   "name": "python",
   "nbconvert_exporter": "python",
   "pygments_lexer": "ipython3",
   "version": "3.6.10"
  }
 },
 "nbformat": 4,
 "nbformat_minor": 4
}
